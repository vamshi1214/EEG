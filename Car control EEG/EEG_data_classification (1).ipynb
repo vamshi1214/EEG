{
  "cells": [
    {
      "cell_type": "code",
      "execution_count": null,
      "metadata": {
        "colab": {
          "base_uri": "https://localhost:8080/"
        },
        "id": "PB1TiKuGe1q1",
        "outputId": "6b59ccef-0f5b-4dfd-d3f0-d04787a719a2"
      },
      "outputs": [
        {
          "name": "stdout",
          "output_type": "stream",
          "text": [
            "Accuracy: 1.0\n",
            "Classification Report:\n",
            "               precision    recall  f1-score   support\n",
            "\n",
            "           0       1.00      1.00      1.00      5668\n",
            "           1       1.00      1.00      1.00      6174\n",
            "           2       1.00      1.00      1.00      6041\n",
            "\n",
            "    accuracy                           1.00     17883\n",
            "   macro avg       1.00      1.00      1.00     17883\n",
            "weighted avg       1.00      1.00      1.00     17883\n",
            "\n",
            "Confusion Matrix:\n",
            " [[5668    0    0]\n",
            " [   0 6174    0]\n",
            " [   0    0 6041]]\n"
          ]
        }
      ],
      "source": [
        "from sklearn.ensemble import RandomForestClassifier\n",
        "from sklearn.metrics import accuracy_score, classification_report, confusion_matrix\n",
        "from sklearn.model_selection import train_test_split\n",
        "dataset =pd.read_csv(\"train_split_data_csv.csv\")\n",
        "X= dataset.iloc[:, :-1]\n",
        "y= dataset.iloc[:, -1]\n",
        "# Assuming X contains your features and y contains your labels\n",
        "X_train, X_test, y_train, y_test = train_test_split(X, y, test_size=0.2, random_state=42)\n",
        "\n",
        "# Create a Random Forest classifier with default hyperparameters\n",
        "rf_model = RandomForestClassifier(random_state=42)\n",
        "\n",
        "# Train the model\n",
        "rf_model.fit(X_train, y_train)\n",
        "\n",
        "# Make predictions on the test set\n",
        "y_pred = rf_model.predict(X_test)\n",
        "\n",
        "# Evaluate the performance\n",
        "print(\"Accuracy:\", accuracy_score(y_test, y_pred))\n",
        "print(\"Classification Report:\\n\", classification_report(y_test, y_pred))\n",
        "print(\"Confusion Matrix:\\n\", confusion_matrix(y_test, y_pred))\n"
      ]
    },
    {
      "cell_type": "code",
      "execution_count": null,
      "metadata": {
        "colab": {
          "base_uri": "https://localhost:8080/"
        },
        "id": "66wDHv4cfeTE",
        "outputId": "a63f80d9-18f3-4bc4-d129-85192bc923ab"
      },
      "outputs": [
        {
          "name": "stdout",
          "output_type": "stream",
          "text": [
            "[2 1 0]\n"
          ]
        }
      ],
      "source": [
        "import pandas as pd\n",
        "\n",
        "# Load your new data into a DataFrame (replace 'your_data.csv' with your actual file name)\n",
        "new_data = pd.read_csv('test_man_vam.csv')\n",
        "\n",
        "# Ensure that the features match the input features used during training\n",
        "X_new = new_data[['timestamps','TP9', 'AF7', 'AF8', 'TP10']]\n",
        "# Assuming rf_model is your trained Random Forest model\n",
        "predictions = rf_model.predict(X_new)\n",
        "# Print the predictions\n",
        "print(predictions)\n"
      ]
    }
  ],
  "metadata": {
    "accelerator": "GPU",
    "colab": {
      "gpuType": "T4",
      "provenance": []
    },
    "kernelspec": {
      "display_name": "Python 3",
      "name": "python3"
    },
    "language_info": {
      "name": "python"
    }
  },
  "nbformat": 4,
  "nbformat_minor": 0
}
